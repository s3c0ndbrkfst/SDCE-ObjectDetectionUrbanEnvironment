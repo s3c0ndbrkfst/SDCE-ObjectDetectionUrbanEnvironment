{
 "cells": [
  {
   "cell_type": "markdown",
   "metadata": {},
   "source": [
    "# Explore the dataset\n",
    "\n",
    "\n",
    "In this notebook, we will perform an EDA (Exploratory Data Analysis) on the processed Waymo dataset (data in the `processed` folder). In the first part, you will create a function to display "
   ]
  },
  {
   "cell_type": "code",
   "execution_count": null,
   "metadata": {},
   "outputs": [],
   "source": [
    "from utils import get_dataset\n",
    "import glob\n",
    "import matplotlib.pyplot as plt\n",
    "from matplotlib.patches import Rectangle\n",
    "import numpy as np\n",
    "import tensorflow as tf\n",
    "\n",
    "%matplotlib inline\n"
   ]
  },
  {
   "cell_type": "code",
   "execution_count": null,
   "metadata": {},
   "outputs": [],
   "source": [
    "dataset = get_dataset(\"/home/workspace/home/data/train/*.tfrecord\")\n"
   ]
  },
  {
   "cell_type": "markdown",
   "metadata": {},
   "source": [
    "## Write a function to display an image and the bounding boxes\n",
    "\n",
    "Implement the `display_instances` function below. This function takes a batch as an input and display an image with its corresponding bounding boxes. The only requirement is that the classes should be color coded (eg, vehicles in red, pedestrians in blue, cyclist in green)."
   ]
  },
  {
   "cell_type": "code",
   "execution_count": null,
   "metadata": {},
   "outputs": [],
   "source": [
    "def display_images(batch):\n",
    "    \"\"\"\n",
    "    This function takes a batch from the dataset and display the image with \n",
    "    the associated bounding boxes. Referenced from 'Explore augmentations.ipynb'\n",
    "    provided by Udacity.\n",
    "    \"\"\"\n",
    "    # color mapping of classes\n",
    "    colormap = {\n",
    "        1: {\n",
    "            'class': 'vehicle',\n",
    "            'bbcolor': 'red'\n",
    "        },\n",
    "        2: {\n",
    "            'class': 'pedestrian',\n",
    "            'bbcolor': 'blue'\n",
    "        },\n",
    "        4: {\n",
    "            'class': 'cyclist',\n",
    "            'bbcolor': 'green'\n",
    "        }\n",
    "    }\n",
    "\n",
    "    for instance in batch:\n",
    "        img = instance['image'].numpy()\n",
    "        bboxes = instance['groundtruth_boxes'].numpy()\n",
    "        classes = instance['groundtruth_classes'].numpy()\n",
    "\n",
    "        w, h, _ = img.shape\n",
    "        bboxes[:, [0, 2]] *= w\n",
    "        bboxes[:, [1, 3]] *= h\n",
    "\n",
    "        _, ax = plt.subplots(1, figsize=(10, 10))\n",
    "        ax.imshow(img)\n",
    "\n",
    "        for bb, cl in zip(bboxes, classes):\n",
    "            y1, x1, y2, x2 = bb\n",
    "            rec = Rectangle((x1, y1), x2 - x1, y2 - y1,\n",
    "                            facecolor='none', edgecolor=colormap[cl]['bbcolor'])\n",
    "            ax.add_patch(rec)\n",
    "        ax.axis('off')\n",
    "    plt.show()\n"
   ]
  },
  {
   "cell_type": "markdown",
   "metadata": {},
   "source": [
    "## Display 10 images \n",
    "\n",
    "Using the dataset created in the second cell and the function you just coded, display 10 random images with the associated bounding boxes. You can use the methods `take` and `shuffle` on the dataset."
   ]
  },
  {
   "cell_type": "code",
   "execution_count": null,
   "metadata": {},
   "outputs": [],
   "source": [
    "display_images(dataset.shuffle(100).take(10))\n"
   ]
  },
  {
   "cell_type": "markdown",
   "metadata": {},
   "source": [
    "## Additional EDA\n",
    "\n",
    "In this last part, you are free to perform any additional analysis of the dataset. What else would like to know about the data?\n",
    "For example, think about data distribution. So far, you have only looked at a single file..."
   ]
  },
  {
   "cell_type": "code",
   "execution_count": null,
   "metadata": {},
   "outputs": [],
   "source": [
    "def class_distribution(batch):\n",
    "    \"\"\"\n",
    "    This function takes a batch from the dataset and displays a histogram\n",
    "    of the class distribution.\n",
    "    \"\"\"\n",
    "    count_vehicles, count_pedestrians, count_cyclists = 0, 0, 0\n",
    "\n",
    "    for item in batch:\n",
    "        classes = item[\"groundtruth_classes\"].numpy()\n",
    "        for cl in classes:\n",
    "            if cl == 1:\n",
    "                count_vehicles += 1\n",
    "            elif cl == 2:\n",
    "                count_pedestrians += 1\n",
    "            elif cl == 4:\n",
    "                count_cyclists += 1\n",
    "\n",
    "    fig, ax = plt.subplots()\n",
    "\n",
    "    classes = ['vehicles', 'pedestrians', 'cyclists']\n",
    "    counts = [count_vehicles, count_pedestrians, count_cyclists]\n",
    "    bar_colors = ['red', 'blue', 'green']\n",
    "\n",
    "    ax.bar(classes, counts, label=classes, color=bar_colors)\n",
    "    ax.set_ylabel('count of class')\n",
    "    ax.set_title('Class Distribution')\n",
    "\n",
    "    plt.show()\n",
    "    print(f'Count of vehicles = {count_vehicles}')\n",
    "    print(f'Count of pedestrians = {count_pedestrians}')\n",
    "    print(f'Count of cyclists = {count_cyclists}')\n"
   ]
  },
  {
   "cell_type": "code",
   "execution_count": null,
   "metadata": {},
   "outputs": [],
   "source": [
    "class_distribution(dataset.take(1000))\n"
   ]
  }
 ],
 "metadata": {
  "kernelspec": {
   "display_name": "Python 3",
   "language": "python",
   "name": "python3"
  },
  "language_info": {
   "codemirror_mode": {
    "name": "ipython",
    "version": 3
   },
   "file_extension": ".py",
   "mimetype": "text/x-python",
   "name": "python",
   "nbconvert_exporter": "python",
   "pygments_lexer": "ipython3",
   "version": "3.6.9"
  }
 },
 "nbformat": 4,
 "nbformat_minor": 4
}
